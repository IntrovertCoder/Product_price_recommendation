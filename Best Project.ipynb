{
 "cells": [
  {
   "cell_type": "code",
   "execution_count": 1,
   "id": "001ca7ba",
   "metadata": {},
   "outputs": [],
   "source": [
    "from faker import Faker "
   ]
  },
  {
   "cell_type": "code",
   "execution_count": 2,
   "id": "cb7ed4f5",
   "metadata": {},
   "outputs": [],
   "source": [
    "import pandas as pd"
   ]
  },
  {
   "cell_type": "code",
   "execution_count": 3,
   "id": "fc01aa45",
   "metadata": {},
   "outputs": [],
   "source": [
    "import numpy as np"
   ]
  },
  {
   "cell_type": "code",
   "execution_count": 4,
   "id": "514fb8a2",
   "metadata": {},
   "outputs": [],
   "source": [
    "import random"
   ]
  },
  {
   "cell_type": "code",
   "execution_count": 5,
   "id": "2fdf74b6",
   "metadata": {},
   "outputs": [],
   "source": [
    "fake=Faker()"
   ]
  },
  {
   "cell_type": "code",
   "execution_count": 6,
   "id": "2152034d",
   "metadata": {},
   "outputs": [
    {
     "name": "stdout",
     "output_type": "stream",
     "text": [
      "Shape: (300, 6)\n",
      "        Brand      Price  Screen_Size  Storage  Ram Camera\n",
      "0        Reno   46199.00          6.9      256    2   24MP\n",
      "1        Vivo  193616.67          6.4      512    2   16MP\n",
      "2       Nokia   45415.99          4.5       64    6   20MP\n",
      "3        Oppo  157629.63          5.5       64    6   12MP\n",
      "4       Apple   87800.42          5.4       32   12   16MP\n",
      "..        ...        ...          ...      ...  ...    ...\n",
      "295  Motorola   65054.47          6.6      128    2   20MP\n",
      "296      Oppo  135385.74          4.4      128    8   20MP\n",
      "297      Vivo   84803.96          7.0      256    8   12MP\n",
      "298   Samsung  134061.42          6.4      512    2   20MP\n",
      "299   Samsung  148597.17          6.4      128    8   24MP\n",
      "\n",
      "[300 rows x 6 columns]\n"
     ]
    }
   ],
   "source": [
    "def generate_dummy_data(num_products=10):\n",
    "    data = []\n",
    "    for _ in range(num_products):\n",
    "        brand = random.choice([\"Apple\", \"Motorola\", \"Realme\", \"Samsung\", \"Nokia\", \"Vivo\", \"Oppo\", \"Reno\", \"Techno\"])\n",
    "        if brand == \"Apple\":\n",
    "            operating_system = \"iOS\"\n",
    "        else:\n",
    "            operating_system = random.choice([\"Android\", \"iOS\"])\n",
    "        \n",
    "        price = round(random.uniform(1000, 200000), 2)\n",
    "        screen_size = round(random.uniform(4, 7), 1)\n",
    "        storage = random.choice([32, 64, 128, 256, 512])\n",
    "        ram = random.choice([2, 4, 6, 8, 12])\n",
    "        camera = fake.random_element(elements=('12MP', '16MP', '20MP', '24MP'))\n",
    "        \n",
    "        data.append((brand, price, screen_size, storage, ram, camera))\n",
    "    \n",
    "    return data\n",
    "\n",
    "\n"
   ]
  },
  {
   "cell_type": "code",
   "execution_count": null,
   "id": "b4edccdb",
   "metadata": {},
   "outputs": [],
   "source": [
    "dummy_data = generate_dummy_data(300)\n",
    "df = pd.DataFrame(dummy_data, columns=['Brand','Price', 'Screen_Size', 'Storage', 'Ram', 'Camera'])\n",
    "print(\"Shape:\", df.shape)\n",
    "print(df)\n"
   ]
  },
  {
   "cell_type": "code",
   "execution_count": 7,
   "id": "406c3ad2",
   "metadata": {},
   "outputs": [],
   "source": [
    "import mysql.connector\n",
    "\n",
    "# Connect to MySQL\n",
    "conn = mysql.connector.connect(\n",
    "    host=\"127.0.0.1\",\n",
    "    user=\"root\",\n",
    "    password=\"Aryan@#123\",\n",
    "    database=\"phone_products\"\n",
    ")\n",
    "\n",
    "# Create a cursor object\n",
    "cursor = conn.cursor()"
   ]
  },
  {
   "cell_type": "code",
   "execution_count": 8,
   "id": "172d6341",
   "metadata": {},
   "outputs": [],
   "source": [
    "\n",
    "for row in df.itertuples():\n",
    "    query = \"INSERT INTO product (brand, price, screen_size, storage, ram, camera) VALUES (%s, %s, %s, %s, %s, %s)\"\n",
    "    values = (row.Brand, row.Price, row.Screen_Size, row.Storage, row.Ram, row.Camera)\n",
    "    cursor.execute(query, values)\n",
    "\n",
    "# Commit the changes\n",
    "conn.commit()\n",
    "\n",
    "# Close the cursor and connection\n",
    "cursor.close()\n",
    "conn.close()\n"
   ]
  },
  {
   "cell_type": "code",
   "execution_count": 9,
   "id": "0d6b32e5",
   "metadata": {},
   "outputs": [
    {
     "name": "stdout",
     "output_type": "stream",
     "text": [
      "   id    brand      price  screen_size  storage  ram camera\n",
      "0   1     Reno  196595.27          5.6       32    4   16MP\n",
      "1   2     Reno  198823.18          6.5       32    4   24MP\n",
      "2   3  Samsung  131738.06          4.6      256    2   24MP\n",
      "3   4    Apple   39000.91          4.7       64    2   16MP\n",
      "4   5   Techno   78409.59          5.0       32    8   12MP\n"
     ]
    },
    {
     "name": "stderr",
     "output_type": "stream",
     "text": [
      "C:\\Users\\aryan\\AppData\\Local\\Temp\\ipykernel_14388\\1368689459.py:12: UserWarning: pandas only supports SQLAlchemy connectable (engine/connection) or database string URI or sqlite3 DBAPI2 connection. Other DBAPI2 objects are not tested. Please consider using SQLAlchemy.\n",
      "  df = pd.read_sql(query, conn)\n"
     ]
    }
   ],
   "source": [
    "# Connect to MySQL\n",
    "conn = mysql.connector.connect(\n",
    "    host=\"127.0.0.1\",\n",
    "    user=\"root\",\n",
    "    password=\"Aryan@#123\",\n",
    "    database=\"phone_products\"\n",
    ")\n",
    "# Query to retrieve data\n",
    "query = \"SELECT * FROM product\"\n",
    "\n",
    "# Load data into a DataFrame\n",
    "df = pd.read_sql(query, conn)\n",
    "\n",
    "# Close the connection\n",
    "conn.close()\n",
    "\n",
    "# Display the first few rows of the DataFrame to verify the data\n",
    "print(df.head())"
   ]
  },
  {
   "cell_type": "code",
   "execution_count": 10,
   "id": "c10006fa",
   "metadata": {},
   "outputs": [
    {
     "name": "stdout",
     "output_type": "stream",
     "text": [
      "Mean Squared Error: 3443590583.0438013\n"
     ]
    }
   ],
   "source": [
    "from sklearn.model_selection import train_test_split\n",
    "from sklearn.linear_model import LinearRegression\n",
    "from sklearn.metrics import mean_squared_error\n",
    "\n",
    "# Split the data into features (X) and target variable (y)\n",
    "X = df[['screen_size', 'storage', 'ram']]\n",
    "y = df['price']\n",
    "\n",
    "# Split the data into training and testing sets\n",
    "X_train, X_test, y_train, y_test = train_test_split(X, y, test_size=0.2, random_state=42)\n",
    "\n",
    "# Choose a regression algorithm and train the model\n",
    "model = LinearRegression()\n",
    "model.fit(X_train, y_train)\n",
    "\n",
    "# Evaluate the model\n",
    "y_pred = model.predict(X_test)\n",
    "mse = mean_squared_error(y_test, y_pred)\n",
    "print(\"Mean Squared Error:\", mse)  # Corrected the non-printable character\n"
   ]
  },
  {
   "cell_type": "code",
   "execution_count": 11,
   "id": "66c98d1c",
   "metadata": {},
   "outputs": [],
   "source": [
    "import tkinter as tk\n",
    "from tkinter import messagebox\n",
    "\n",
    "# Create a Tkinter window\n",
    "window = tk.Tk()\n",
    "window.title(\"Product Price Predictor\")\n",
    "\n",
    "# Function to make price prediction\n",
    "def predict_price():\n",
    "    # Get input values from entry fields\n",
    "    screen_size = float(screen_size_entry.get())\n",
    "    storage = int(storage_entry.get())\n",
    "    ram = int(ram_entry.get())\n",
    "    \n",
    "    # Make prediction using the trained model\n",
    "    predicted_price = model.predict([[screen_size, storage, ram]])\n",
    "    \n",
    "    # Display the predicted price\n",
    "    messagebox.showinfo(\"Price Prediction\", f\"Predicted Price: Rs{predicted_price[0]:.2f}\")\n",
    "\n",
    "# GUI elements\n",
    "screen_size_label = tk.Label(window, text=\"Screen Size (inches):\")\n",
    "screen_size_label.grid(row=0, column=0)\n",
    "\n",
    "screen_size_entry = tk.Entry(window)\n",
    "screen_size_entry.grid(row=0, column=1)\n",
    "\n",
    "storage_label = tk.Label(window, text=\"Storage (GB):\")\n",
    "storage_label.grid(row=1, column=0)\n",
    "\n",
    "storage_entry = tk.Entry(window)\n",
    "storage_entry.grid(row=1, column=1)\n",
    "\n",
    "ram_label = tk.Label(window, text=\"RAM (GB):\")\n",
    "ram_label.grid(row=2, column=0)\n",
    "\n",
    "ram_entry = tk.Entry(window)\n",
    "ram_entry.grid(row=2, column=1)\n",
    "\n",
    "predict_button = tk.Button(window, text=\"Predict Price\", command=predict_price)\n",
    "predict_button.grid(row=3, column=0, columnspan=2)\n",
    "\n",
    "# Run the Tkinter event loop\n",
    "window.mainloop()"
   ]
  },
  {
   "cell_type": "code",
   "execution_count": null,
   "id": "70a0356f",
   "metadata": {},
   "outputs": [],
   "source": []
  }
 ],
 "metadata": {
  "kernelspec": {
   "display_name": "Python 3 (ipykernel)",
   "language": "python",
   "name": "python3"
  },
  "language_info": {
   "codemirror_mode": {
    "name": "ipython",
    "version": 3
   },
   "file_extension": ".py",
   "mimetype": "text/x-python",
   "name": "python",
   "nbconvert_exporter": "python",
   "pygments_lexer": "ipython3",
   "version": "3.10.9"
  }
 },
 "nbformat": 4,
 "nbformat_minor": 5
}
